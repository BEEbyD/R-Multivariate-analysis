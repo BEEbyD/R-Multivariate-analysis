{
 "cells": [
  {
   "cell_type": "markdown",
   "id": "20c20ee9-4dd6-466b-a8f3-ceb07eb310be",
   "metadata": {},
   "source": [
    "# MULTIVARIATE ANALYSIS\n"
   ]
  },
  {
   "cell_type": "code",
   "execution_count": 1,
   "id": "52060800-0128-4971-a133-c56b2cc4efa6",
   "metadata": {},
   "outputs": [],
   "source": [
    "#packages used\n",
    "library(ggplot2)\n",
    "library(MASS)  \n",
    "library(stats)\n",
    "library(readxl)"
   ]
  },
  {
   "cell_type": "code",
   "execution_count": 2,
   "id": "0457b4f7-81a4-4808-a109-76e20741698a",
   "metadata": {},
   "outputs": [
    {
     "data": {
      "text/html": [
       "<table class=\"dataframe\">\n",
       "<caption>A tibble: 1 × 8</caption>\n",
       "<thead>\n",
       "\t<tr><th scope=col>Age</th><th scope=col>Sex</th><th scope=col>Referral source</th><th scope=col>TSH</th><th scope=col>T3</th><th scope=col>TT4</th><th scope=col>FTI</th><th scope=col>Indicator status</th></tr>\n",
       "\t<tr><th scope=col>&lt;dbl&gt;</th><th scope=col>&lt;chr&gt;</th><th scope=col>&lt;chr&gt;</th><th scope=col>&lt;dbl&gt;</th><th scope=col>&lt;dbl&gt;</th><th scope=col>&lt;dbl&gt;</th><th scope=col>&lt;dbl&gt;</th><th scope=col>&lt;chr&gt;</th></tr>\n",
       "</thead>\n",
       "<tbody>\n",
       "\t<tr><td>41</td><td>F</td><td>SVHC</td><td>1.3</td><td>2.5</td><td>125</td><td>109</td><td>P</td></tr>\n",
       "</tbody>\n",
       "</table>\n"
      ],
      "text/latex": [
       "A tibble: 1 × 8\n",
       "\\begin{tabular}{llllllll}\n",
       " Age & Sex & Referral source & TSH & T3 & TT4 & FTI & Indicator status\\\\\n",
       " <dbl> & <chr> & <chr> & <dbl> & <dbl> & <dbl> & <dbl> & <chr>\\\\\n",
       "\\hline\n",
       "\t 41 & F & SVHC & 1.3 & 2.5 & 125 & 109 & P\\\\\n",
       "\\end{tabular}\n"
      ],
      "text/markdown": [
       "\n",
       "A tibble: 1 × 8\n",
       "\n",
       "| Age &lt;dbl&gt; | Sex &lt;chr&gt; | Referral source &lt;chr&gt; | TSH &lt;dbl&gt; | T3 &lt;dbl&gt; | TT4 &lt;dbl&gt; | FTI &lt;dbl&gt; | Indicator status &lt;chr&gt; |\n",
       "|---|---|---|---|---|---|---|---|\n",
       "| 41 | F | SVHC | 1.3 | 2.5 | 125 | 109 | P |\n",
       "\n"
      ],
      "text/plain": [
       "  Age Sex Referral source TSH T3  TT4 FTI Indicator status\n",
       "1 41  F   SVHC            1.3 2.5 125 109 P               "
      ]
     },
     "metadata": {},
     "output_type": "display_data"
    }
   ],
   "source": [
    "data <- read_excel(\"Thyroid.xlsx\")\n",
    "head(data,1)"
   ]
  },
  {
   "cell_type": "code",
   "execution_count": 3,
   "id": "9f9c9dc9-93e7-4a35-b404-165493a16090",
   "metadata": {},
   "outputs": [],
   "source": [
    "names(data)[c(3, 8)] <- c(\"Referral_source\", \"Indicator_status\")"
   ]
  },
  {
   "cell_type": "code",
   "execution_count": 4,
   "id": "df2a4415-c517-4553-860a-abac17d1106a",
   "metadata": {},
   "outputs": [
    {
     "data": {
      "text/html": [
       "<table class=\"dataframe\">\n",
       "<caption>A tibble: 1 × 8</caption>\n",
       "<thead>\n",
       "\t<tr><th scope=col>Age</th><th scope=col>Sex</th><th scope=col>Referral_source</th><th scope=col>TSH</th><th scope=col>T3</th><th scope=col>TT4</th><th scope=col>FTI</th><th scope=col>Indicator_status</th></tr>\n",
       "\t<tr><th scope=col>&lt;dbl&gt;</th><th scope=col>&lt;chr&gt;</th><th scope=col>&lt;chr&gt;</th><th scope=col>&lt;dbl&gt;</th><th scope=col>&lt;dbl&gt;</th><th scope=col>&lt;dbl&gt;</th><th scope=col>&lt;dbl&gt;</th><th scope=col>&lt;chr&gt;</th></tr>\n",
       "</thead>\n",
       "<tbody>\n",
       "\t<tr><td>41</td><td>F</td><td>SVHC</td><td>1.3</td><td>2.5</td><td>125</td><td>109</td><td>P</td></tr>\n",
       "</tbody>\n",
       "</table>\n"
      ],
      "text/latex": [
       "A tibble: 1 × 8\n",
       "\\begin{tabular}{llllllll}\n",
       " Age & Sex & Referral\\_source & TSH & T3 & TT4 & FTI & Indicator\\_status\\\\\n",
       " <dbl> & <chr> & <chr> & <dbl> & <dbl> & <dbl> & <dbl> & <chr>\\\\\n",
       "\\hline\n",
       "\t 41 & F & SVHC & 1.3 & 2.5 & 125 & 109 & P\\\\\n",
       "\\end{tabular}\n"
      ],
      "text/markdown": [
       "\n",
       "A tibble: 1 × 8\n",
       "\n",
       "| Age &lt;dbl&gt; | Sex &lt;chr&gt; | Referral_source &lt;chr&gt; | TSH &lt;dbl&gt; | T3 &lt;dbl&gt; | TT4 &lt;dbl&gt; | FTI &lt;dbl&gt; | Indicator_status &lt;chr&gt; |\n",
       "|---|---|---|---|---|---|---|---|\n",
       "| 41 | F | SVHC | 1.3 | 2.5 | 125 | 109 | P |\n",
       "\n"
      ],
      "text/plain": [
       "  Age Sex Referral_source TSH T3  TT4 FTI Indicator_status\n",
       "1 41  F   SVHC            1.3 2.5 125 109 P               "
      ]
     },
     "metadata": {},
     "output_type": "display_data"
    }
   ],
   "source": [
    "head(data,1)\n"
   ]
  },
  {
   "cell_type": "code",
   "execution_count": 5,
   "id": "6547fec2-ac89-4c37-8268-9d81e623476b",
   "metadata": {},
   "outputs": [
    {
     "data": {
      "text/plain": [
       "      Age            Sex            Referral_source         TSH          \n",
       " Min.   : 1.00   Length:400         Length:400         Min.   :  0.0050  \n",
       " 1st Qu.:35.75   Class :character   Class :character   1st Qu.:  0.5925  \n",
       " Median :50.50   Mode  :character   Mode  :character   Median :  1.4000  \n",
       " Mean   :50.91                                         Mean   :  5.1007  \n",
       " 3rd Qu.:65.25                                         3rd Qu.:  2.4000  \n",
       " Max.   :87.00                                         Max.   :199.0000  \n",
       "       T3             TT4             FTI        Indicator_status  \n",
       " Min.   :0.050   Min.   :  5.8   Min.   :  7.0   Length:400        \n",
       " 1st Qu.:1.500   1st Qu.: 86.0   1st Qu.: 94.0   Class :character  \n",
       " Median :1.900   Median :103.0   Median :108.0   Mode  :character  \n",
       " Mean   :1.962   Mean   :106.8   Mean   :109.8                     \n",
       " 3rd Qu.:2.300   3rd Qu.:123.0   3rd Qu.:125.0                     \n",
       " Max.   :6.000   Max.   :257.0   Max.   :312.0                     "
      ]
     },
     "metadata": {},
     "output_type": "display_data"
    }
   ],
   "source": [
    "#summary statistics\n",
    "summary(data)"
   ]
  },
  {
   "cell_type": "code",
   "execution_count": 6,
   "id": "159ba163-c5a7-4f4e-bba2-f436480c799b",
   "metadata": {},
   "outputs": [
    {
     "name": "stdout",
     "output_type": "stream",
     "text": [
      "[1] \"P\" \"N\"\n"
     ]
    }
   ],
   "source": [
    "# Get unique of the categorical variables\n",
    "#unique_values <- unique(data$Referral_source)\n",
    "#unique_values <- unique(data$Sex)\n",
    "unique_values <- unique(data$Indicator_status)\n",
    "# Print unique values\n",
    "print(unique_values)"
   ]
  },
  {
   "cell_type": "markdown",
   "id": "2595dc78-3a85-482a-8dc2-24d670d1b8b2",
   "metadata": {},
   "source": [
    "# Q1"
   ]
  },
  {
   "cell_type": "markdown",
   "id": "77f82264-2b03-4db0-9226-c2c6d7c41879",
   "metadata": {},
   "source": [
    "Dataset description:\n",
    "\n",
    "The Thyroid dataset is made up of 8 variable and 400 entries.\n",
    "Age: Is a numeric variable with a minimum value of 1 and a maximum value of 87, continuous.\n",
    "Sex: Is a categorical variable (M, F) , for Male and Female.\n",
    "System of Referral: Is a character variable of of 5 unique values .\n",
    "Blood Test Results:Are four quantitative variables.\n",
    "Namely: \n",
    "\n",
    "    TSH >>With a mean and median of (5.1007,1.4000) respectively. Minimum value and Maximum value of (0.0050 ,199.0000) respectively\n",
    "    \n",
    "    T3  >>With a mean and median of (1.962,1.900) respectively. Minimum value and Maximum value of (0.050 ,6.000) respectively\n",
    "    \n",
    "    TT4 >>With a mean and median of (106.8,103.0) respectively. Minimum value and Maximum value of (5.8 ,257.0) respectively\n",
    "    \n",
    "    FTI >>With a mean and median of (109.8,108.0) respectively. Minimum value and Maximum value of (7.0 ,312.0) respectively\n",
    "\n",
    "Indicator Test Result: Is a categorical variable with two unique values (P/N)."
   ]
  },
  {
   "cell_type": "code",
   "execution_count": null,
   "id": "b7ba60bc-60b4-486f-bbf5-6c2f2abace52",
   "metadata": {},
   "outputs": [],
   "source": []
  },
  {
   "cell_type": "markdown",
   "id": "6ed96a33-dbd7-48b3-9654-da4353329b41",
   "metadata": {},
   "source": [
    "# Q2(i)"
   ]
  },
  {
   "cell_type": "code",
   "execution_count": 7,
   "id": "13f367b8-b2dd-45a6-a31c-b9c9a9f7089e",
   "metadata": {},
   "outputs": [
    {
     "data": {
      "text/plain": [
       "              \n",
       "                  N    P\n",
       "  35 and under 0.03 0.97\n",
       "  36 to 50     0.12 0.88\n",
       "  51 to 65     0.09 0.91\n",
       "  66 and over  0.06 0.94"
      ]
     },
     "metadata": {},
     "output_type": "display_data"
    }
   ],
   "source": [
    "# Age Groups var\n",
    "data$AgeGroup <- cut(data$Age, breaks = c(-Inf, 35, 50, 65, Inf), \n",
    "                     labels = c('35 and under', '36 to 50', '51 to 65', '66 and over'))\n",
    "\n",
    "# Indicator Status proportion of 'P' and 'N' in each age group.\n",
    "prop.table(table(data$AgeGroup, data$Indicator_status), 1)\n"
   ]
  },
  {
   "cell_type": "markdown",
   "id": "e9a1971e-c8c3-4f74-9ed3-31eb1ead8532",
   "metadata": {},
   "source": [
    "# Q2(ii)"
   ]
  },
  {
   "cell_type": "code",
   "execution_count": 8,
   "id": "c7b80ef7-276f-46fc-835e-ef2de3d8ec49",
   "metadata": {},
   "outputs": [
    {
     "data": {
      "text/html": [
       "<style>\n",
       ".dl-inline {width: auto; margin:0; padding: 0}\n",
       ".dl-inline>dt, .dl-inline>dd {float: none; width: auto; display: inline-block}\n",
       ".dl-inline>dt::after {content: \":\\0020\"; padding-right: .5ex}\n",
       ".dl-inline>dt:not(:first-of-type) {padding-left: .5ex}\n",
       "</style><dl class=dl-inline><dt>TSH</dt><dd>5.10075</dd><dt>T3</dt><dd>1.962375</dd><dt>TT4</dt><dd>106.792</dd><dt>FTI</dt><dd>109.81725</dd></dl>\n"
      ],
      "text/latex": [
       "\\begin{description*}\n",
       "\\item[TSH] 5.10075\n",
       "\\item[T3] 1.962375\n",
       "\\item[TT4] 106.792\n",
       "\\item[FTI] 109.81725\n",
       "\\end{description*}\n"
      ],
      "text/markdown": [
       "TSH\n",
       ":   5.10075T3\n",
       ":   1.962375TT4\n",
       ":   106.792FTI\n",
       ":   109.81725\n",
       "\n"
      ],
      "text/plain": [
       "       TSH         T3        TT4        FTI \n",
       "  5.100750   1.962375 106.792000 109.817250 "
      ]
     },
     "metadata": {},
     "output_type": "display_data"
    }
   ],
   "source": [
    "# Sample mean vector for the four blood test results\n",
    "mean_vector <- colMeans(data[, c(\"TSH\", \"T3\", \"TT4\", \"FTI\")])\n",
    "mean_vector\n"
   ]
  },
  {
   "cell_type": "markdown",
   "id": "d19583d0-beb2-4be6-8c6b-351549113c06",
   "metadata": {},
   "source": [
    "# Q2(iii)"
   ]
  },
  {
   "cell_type": "code",
   "execution_count": 9,
   "id": "03b61792-81d0-43e0-9a78-0b2f6f57d857",
   "metadata": {},
   "outputs": [
    {
     "data": {
      "text/html": [
       "'TT4'"
      ],
      "text/latex": [
       "'TT4'"
      ],
      "text/markdown": [
       "'TT4'"
      ],
      "text/plain": [
       "[1] \"TT4\""
      ]
     },
     "metadata": {},
     "output_type": "display_data"
    }
   ],
   "source": [
    "# The quantitative variable that exhibits the greatest level of variation around the mean\n",
    "sds <- apply(data[, c(\"TSH\", \"T3\", \"TT4\", \"FTI\")], 2, sd)\n",
    "max_var_test <- names(which.max(sds))\n",
    "max_var_test\n"
   ]
  },
  {
   "cell_type": "markdown",
   "id": "8afa8763-7f1c-466c-8acc-8f95ce7bff4e",
   "metadata": {},
   "source": [
    "# Q2(iv)"
   ]
  },
  {
   "cell_type": "code",
   "execution_count": 10,
   "id": "3dba89fb-0d04-4b94-82ba-4f020ed089ed",
   "metadata": {},
   "outputs": [
    {
     "name": "stdout",
     "output_type": "stream",
     "text": [
      "    row col\n",
      "FTI   4   3\n",
      "TT4   3   4\n"
     ]
    }
   ],
   "source": [
    "# Correlation matrix for the blood test results\n",
    "cor_matrix <- cor(data[, c(\"TSH\", \"T3\", \"TT4\", \"FTI\")])\n",
    "# Pair with the highest correlation\n",
    "highest_corr_pair <- which(abs(cor_matrix) == max(abs(cor_matrix[lower.tri(cor_matrix)])), arr.ind = TRUE)\n",
    "print(highest_corr_pair)"
   ]
  },
  {
   "cell_type": "markdown",
   "id": "744d06c6-065d-4b69-ab2d-d412ee93bfda",
   "metadata": {},
   "source": [
    "# Q3(i)"
   ]
  },
  {
   "cell_type": "code",
   "execution_count": 11,
   "id": "89464f0c-f5a5-4c06-8284-1d684afc072c",
   "metadata": {},
   "outputs": [
    {
     "data": {
      "text/html": [
       "<dl>\n",
       "\t<dt>$T2</dt>\n",
       "\t\t<dd><table class=\"dataframe\">\n",
       "<caption>A matrix: 1 × 1 of type dbl</caption>\n",
       "<tbody>\n",
       "\t<tr><td>8.403991</td></tr>\n",
       "</tbody>\n",
       "</table>\n",
       "</dd>\n",
       "\t<dt>$p_value</dt>\n",
       "\t\t<dd><table class=\"dataframe\">\n",
       "<caption>A matrix: 1 × 1 of type dbl</caption>\n",
       "<tbody>\n",
       "\t<tr><td>1.618715e-06</td></tr>\n",
       "</tbody>\n",
       "</table>\n",
       "</dd>\n",
       "</dl>\n"
      ],
      "text/latex": [
       "\\begin{description}\n",
       "\\item[\\$T2] A matrix: 1 × 1 of type dbl\n",
       "\\begin{tabular}{l}\n",
       "\t 8.403991\\\\\n",
       "\\end{tabular}\n",
       "\n",
       "\\item[\\$p\\_value] A matrix: 1 × 1 of type dbl\n",
       "\\begin{tabular}{l}\n",
       "\t 1.618715e-06\\\\\n",
       "\\end{tabular}\n",
       "\n",
       "\\end{description}\n"
      ],
      "text/markdown": [
       "$T2\n",
       ":   \n",
       "A matrix: 1 × 1 of type dbl\n",
       "\n",
       "| 8.403991 |\n",
       "\n",
       "\n",
       "$p_value\n",
       ":   \n",
       "A matrix: 1 × 1 of type dbl\n",
       "\n",
       "| 1.618715e-06 |\n",
       "\n",
       "\n",
       "\n",
       "\n"
      ],
      "text/plain": [
       "$T2\n",
       "         [,1]\n",
       "[1,] 8.403991\n",
       "\n",
       "$p_value\n",
       "             [,1]\n",
       "[1,] 1.618715e-06\n"
      ]
     },
     "metadata": {},
     "output_type": "display_data"
    }
   ],
   "source": [
    "# Blood result subset \n",
    "data_subset <- data[, c(\"TSH\", \"T3\", \"TT4\", \"FTI\")]\n",
    "\n",
    "# Subset matrix\n",
    "data_matrix <- as.matrix(data_subset)\n",
    "\n",
    "# Null hypothesis mean vector (mu0)\n",
    "mu0 <- c(5, 2, 110, 110)\n",
    "\n",
    "# Number of observations and var\n",
    "n <- nrow(data_matrix)\n",
    "p <- ncol(data_matrix)\n",
    "\n",
    "# Sample mean vector\n",
    "sample_mean <- colMeans(data_matrix)\n",
    "\n",
    "# Sample covariance matrix\n",
    "S <- cov(data_matrix)\n",
    "\n",
    "# Hotelling's T-squared statistic\n",
    "T2 <- n * t(sample_mean - mu0) %*% solve(S) %*% (sample_mean - mu0)\n",
    "\n",
    "# Degrees of freedom(dof)\n",
    "df1 <- p\n",
    "df2 <- n - 1\n",
    "\n",
    "# p-value using F-distribution\n",
    "p_value <- pf(T2, df1, df2, lower.tail = FALSE)\n",
    "\n",
    "# Test statistic and p-value\n",
    "list(T2 = T2, p_value = p_value)\n",
    "\n",
    " \n"
   ]
  },
  {
   "cell_type": "markdown",
   "id": "7df3cc84-f398-434a-a29f-11c432ca10bc",
   "metadata": {},
   "source": [
    "Test if the population mean vector of the four quantitative variables is equal to:\n",
    " µ = (5,2,110,110)\n",
    "\n",
    "Null hypothesis(H0): The the population mean vector is equal to mu0.\n",
    "\n",
    "The calculated Hotelling's T-squared statistic (T2 = 8.403991) shows a significant deviation of the sample mean vector from the specified mean vector mu0 = c(5, 2, 110, 110).\n",
    "\n",
    "The very low p-value (p_value = 1.618715e-06) provides strong evidence suggesting that the population mean vector is not equal to mu0.\n",
    "\n",
    "Hence:\n",
    "Reject the null hypothesis. There is sufficient evidence to support the alternative hypothesis that the population mean vector of the variables TSH, T3, TT4, and FTI differs from (5, 2, 110, 110) at 0.05 statistical significant level."
   ]
  },
  {
   "cell_type": "code",
   "execution_count": null,
   "id": "6c1da724-7e2a-4560-aeea-2b8ae8b46717",
   "metadata": {},
   "outputs": [],
   "source": []
  },
  {
   "cell_type": "markdown",
   "id": "1b774b4a-79cb-46fd-ba48-0b16e53c510a",
   "metadata": {},
   "source": [
    "# Q3(ii)"
   ]
  },
  {
   "cell_type": "code",
   "execution_count": 12,
   "id": "a494e9b6-98f5-4523-ba5c-be2e0a585143",
   "metadata": {},
   "outputs": [
    {
     "data": {
      "image/png": "[encoded data removed]",
      "text/plain": [
       "plot without title"
      ]
     },
     "metadata": {
      "image/png": {
       "height": 420,
       "width": 420
      }
     },
     "output_type": "display_data"
    }
   ],
   "source": [
    "# Load the required libraries\n",
    "library(ggplot2)\n",
    "library(tidyr)  \n",
    "\n",
    "# Calculate mean profiles for males and females\n",
    "profile_means <- aggregate(data[, c(\"TSH\", \"T3\", \"TT4\", \"FTI\")],\n",
    "                           by = list(data$Sex), FUN = mean)\n",
    "\n",
    "# Reshape data to pivot_longer\n",
    "profile_means_long <- pivot_longer(profile_means, cols = -Group.1,\n",
    "                                   names_to = \"Test\", values_to = \"Mean\")\n",
    "\n",
    "# Profile plot \n",
    "ggplot(profile_means_long, aes(x = Test, y = Mean, color = Group.1, group = Group.1)) +\n",
    "  geom_line() + geom_point() +\n",
    "  labs(title = \"Profile Analysis\", x = \"Blood Tests Results\", y = \"Mean Value\")\n"
   ]
  },
  {
   "cell_type": "code",
   "execution_count": null,
   "id": "ba35223c-fc36-4994-95bb-f1c905f49e39",
   "metadata": {},
   "outputs": [],
   "source": []
  },
  {
   "cell_type": "markdown",
   "id": "e466754c-425c-4640-8e38-c878db61cf98",
   "metadata": {},
   "source": [
    "# Q4(i)"
   ]
  },
  {
   "cell_type": "code",
   "execution_count": 13,
   "id": "dd8351f6-392e-409a-b831-6f67df952e90",
   "metadata": {},
   "outputs": [
    {
     "data": {
      "text/plain": [
       "           Df  Pillai approx F num Df den Df    Pr(>F)    \n",
       "AgeGroup    3 0.15228   5.2805     12   1185 9.774e-09 ***\n",
       "Residuals 396                                             \n",
       "---\n",
       "Signif. codes:  0 '***' 0.001 '**' 0.01 '*' 0.05 '.' 0.1 ' ' 1"
      ]
     },
     "metadata": {},
     "output_type": "display_data"
    }
   ],
   "source": [
    "# One-way MANOVA test \n",
    "manova_result <- manova(cbind(TSH, T3, TT4, FTI) ~ AgeGroup, data = data)\n",
    "summary(manova_result)\n",
    "\n"
   ]
  },
  {
   "cell_type": "markdown",
   "id": "ee7f4411-59ed-4f6f-876a-14b8ab5c48e3",
   "metadata": {},
   "source": [
    "Null hypothesis(H0): There is no significant difference in the means of the blood tests across age groups.\n",
    "\n",
    "The p-value (9.774e-09) is < 0.05 Hence; Reject the Null hypothesis\n",
    "AgeGroup has a statistically significant effect on the combined blood test results (TSH, T3, TT4, FTI)"
   ]
  },
  {
   "cell_type": "code",
   "execution_count": null,
   "id": "61582aec-fee2-468f-a1f4-4bec7ae2c722",
   "metadata": {},
   "outputs": [],
   "source": []
  },
  {
   "cell_type": "markdown",
   "id": "205133d6-50ca-4c35-a34a-796015462546",
   "metadata": {},
   "source": [
    "# Q4(ii)"
   ]
  },
  {
   "cell_type": "code",
   "execution_count": 14,
   "id": "db7e45bc-bd0a-48f5-ab38-199af7d4e24b",
   "metadata": {},
   "outputs": [
    {
     "data": {
      "text/plain": [
       "$TSH\n",
       "               Df Sum Sq Mean Sq F value Pr(>F)  \n",
       "data$AgeGroup   3   2459   819.6   2.289 0.0779 .\n",
       "Residuals     396 141759   358.0                 \n",
       "---\n",
       "Signif. codes:  0 '***' 0.001 '**' 0.01 '*' 0.05 '.' 0.1 ' ' 1\n",
       "\n",
       "$T3\n",
       "               Df Sum Sq Mean Sq F value   Pr(>F)    \n",
       "data$AgeGroup   3  31.08  10.362   17.92 6.35e-11 ***\n",
       "Residuals     396 229.00   0.578                     \n",
       "---\n",
       "Signif. codes:  0 '***' 0.001 '**' 0.01 '*' 0.05 '.' 0.1 ' ' 1\n",
       "\n",
       "$TT4\n",
       "               Df Sum Sq Mean Sq F value   Pr(>F)    \n",
       "data$AgeGroup   3  20354    6785   5.805 0.000685 ***\n",
       "Residuals     396 462802    1169                     \n",
       "---\n",
       "Signif. codes:  0 '***' 0.001 '**' 0.01 '*' 0.05 '.' 0.1 ' ' 1\n",
       "\n",
       "$FTI\n",
       "               Df Sum Sq Mean Sq F value Pr(>F)  \n",
       "data$AgeGroup   3   7694    2564   2.469 0.0616 .\n",
       "Residuals     396 411340    1039                 \n",
       "---\n",
       "Signif. codes:  0 '***' 0.001 '**' 0.01 '*' 0.05 '.' 0.1 ' ' 1\n"
      ]
     },
     "metadata": {},
     "output_type": "display_data"
    }
   ],
   "source": [
    "# Perform individual ANOVA tests\n",
    "anova_results <- lapply(data[, c(\"TSH\", \"T3\", \"TT4\", \"FTI\")], \n",
    "                        function(x) summary(aov(x ~ data$AgeGroup)))\n",
    "anova_results\n",
    "\n"
   ]
  },
  {
   "cell_type": "markdown",
   "id": "bdfc77d5-b74c-454f-bc82-17c202a7491a",
   "metadata": {},
   "source": [
    "AgeGroup has a statistically significant effect on T3 and TT4 but also Is statistically insignificant  to blood test result FTI and TSH.\n",
    "This differs from what we obtain from MANOVA test that AgeGroup has a statistically significant effect on the combined blood test results (TSH, T3, TT4, FTI)\n",
    "\n",
    "Comment on two main problems when taking this approach to assess to variables individually.\n",
    "1. Variable combine / interaction effect multiple testing is lost.\n",
    "2. loss of multivariate structure."
   ]
  },
  {
   "cell_type": "code",
   "execution_count": null,
   "id": "01ed2ed0-ead9-4d46-ba4d-f2f1bf78df92",
   "metadata": {},
   "outputs": [],
   "source": []
  },
  {
   "cell_type": "markdown",
   "id": "308eb241-e7aa-4d8f-a6e9-369cfeed8703",
   "metadata": {},
   "source": [
    "# Q4(iii)"
   ]
  },
  {
   "cell_type": "code",
   "execution_count": 15,
   "id": "f2918fc8-c8b8-4bcb-a189-8c8d181251f5",
   "metadata": {},
   "outputs": [
    {
     "name": "stdout",
     "output_type": "stream",
     "text": [
      "Call:\n",
      "lda(AgeGroup ~ TSH + T3 + TT4 + FTI, data = data)\n",
      "\n",
      "Prior probabilities of groups:\n",
      "35 and under     36 to 50     51 to 65  66 and over \n",
      "        0.25         0.25         0.25         0.25 \n",
      "\n",
      "Group means:\n",
      "                 TSH     T3     TT4     FTI\n",
      "35 and under 2.22865 2.4120 118.840 114.740\n",
      "36 to 50     9.06660 1.8360 101.490 102.889\n",
      "51 to 65     4.47500 1.9430 105.358 111.980\n",
      "66 and over  4.63275 1.6585 101.480 109.660\n",
      "\n",
      "Coefficients of linear discriminants:\n",
      "              LD1         LD2         LD3\n",
      "TSH -0.0001012972 -0.02823613 -0.02667672\n",
      "T3  -1.2724265387  0.13645621 -0.97739893\n",
      "TT4 -0.0087001735 -0.02358259  0.04550735\n",
      "FTI  0.0135153867  0.03531398 -0.02996180\n",
      "\n",
      "Proportion of trace:\n",
      "   LD1    LD2    LD3 \n",
      "0.8482 0.1284 0.0234 \n"
     ]
    }
   ],
   "source": [
    " # LDA model\n",
    "lda_result <- lda(AgeGroup ~ TSH + T3 + TT4 + FTI, data = data)\n",
    "\n",
    "#LDA summary\n",
    "print(lda_result)\n"
   ]
  },
  {
   "cell_type": "markdown",
   "id": "f4e04a61-d2d6-4457-ad5c-56e69c2da29e",
   "metadata": {},
   "source": [
    "First Linear Discriminant (LD1): Explains 84.82% of the variance, this is the most important discriminant function.\n",
    "\n",
    "T3 has the highest absolute weight (-1.2724265387), making it the most significant variable and contributed the most to the rejection of the null hypothesiss."
   ]
  },
  {
   "cell_type": "code",
   "execution_count": null,
   "id": "63da9060-dc72-447e-81fa-3d3ccac4af0a",
   "metadata": {},
   "outputs": [],
   "source": []
  },
  {
   "cell_type": "markdown",
   "id": "7939f182-717f-4883-857e-dad8603c6223",
   "metadata": {},
   "source": [
    "# Q5"
   ]
  },
  {
   "cell_type": "code",
   "execution_count": 16,
   "id": "96218aff-d3cf-4a05-976d-510ee171d33d",
   "metadata": {},
   "outputs": [
    {
     "data": {
      "text/plain": [
       "              Df   Pillai approx F num Df den Df    Pr(>F)    \n",
       "AgeGroup       3 0.156827   5.3918     12   1173 5.739e-09 ***\n",
       "Sex            1 0.052059   5.3407      4    389 0.0003391 ***\n",
       "AgeGroup:Sex   3 0.022989   0.7548     12   1173 0.6976657    \n",
       "Residuals    392                                              \n",
       "---\n",
       "Signif. codes:  0 '***' 0.001 '**' 0.01 '*' 0.05 '.' 0.1 ' ' 1"
      ]
     },
     "metadata": {},
     "output_type": "display_data"
    }
   ],
   "source": [
    "# Two-way MANOVA\n",
    "two_way_manova <- manova(cbind(TSH, T3 , TT4, FTI ) ~ AgeGroup * Sex, data = data)\n",
    "summary(two_way_manova)\n"
   ]
  },
  {
   "cell_type": "markdown",
   "id": "9d86617f-4de7-49e0-b808-e0e42cdf746f",
   "metadata": {},
   "source": [
    "Null hypothesis(H0): There is no significant interaction effect between AgeGroup and Sex on the blood test results.\n",
    "\n",
    "1. AgeGroup Main Effect on  :\n",
    "The p-value (5.739e-09) is < 0.05 , hence we reject the null hypothesis.\n",
    "We conclude that AgeGroup has a significant effect on the combined dependent variables.\n",
    "This suggests that different age groups have different profiles for the blood test results\n",
    "\n",
    "2. Sex Main Effect :\n",
    "The p-value (0.0003391) is < 0.05, hence we reject the null hypothesis.\n",
    "We conclude that Sex has a significant effect on the combined dependent variables.\n",
    "This suggests that males and females have different profiles for the blood test results.\n",
    "\n",
    "3. Interaction Effect of (AgeGroup * Sex):\n",
    "The p-value (0.6976657) is > 0.05, hence accept the null hypothesis. \n",
    "We conclude that there is no significant interaction effect between AgeGroup and Sex on the combined dependent variables.\n",
    "This suggests that age affects the blood test results does not significantly differ between males and females.\n",
    "\n",
    "   FINDINGS:\n",
    "The analysis indicates that both AgeGroup and Sex independently influence the blood test results (TSH, T3, TT4, FTI), but there is no evidence of a significant interaction effect between AgeGroup and Sex. "
   ]
  },
  {
   "cell_type": "code",
   "execution_count": null,
   "id": "b01d250d-8ad7-438d-ae9c-67a2e46b326c",
   "metadata": {},
   "outputs": [],
   "source": []
  },
  {
   "cell_type": "markdown",
   "id": "3fbe3787-54df-430d-ab88-6dad7c027626",
   "metadata": {},
   "source": [
    "# Q6"
   ]
  },
  {
   "cell_type": "markdown",
   "id": "60e5b4a9-21dd-4d0c-afc1-c9f3e2a3e027",
   "metadata": {},
   "source": [
    "# Conclusion of the Main Findings\n",
    "\n",
    "Introduction:\n",
    "\n",
    "Descriptive Statistics:  \n",
    "\n",
    "MANOVA: \n",
    "\n",
    "ANOVA: \n",
    "\n",
    "Discriminant Analysis: \n",
    "\n",
    "Two-way MANOVA:\n",
    "\n",
    "Overall Interpretation: suggest possible next steps or additional analysis to improve your understanding of the data."
   ]
  }
 ],
 "metadata": {
  "kernelspec": {
   "display_name": "Python 3 (ipykernel)",
   "language": "python",
   "name": "python3"
  },
  "language_info": {
   "codemirror_mode": {
    "name": "ipython",
    "version": 3
   },
   "file_extension": ".py",
   "mimetype": "text/x-python",
   "name": "python",
   "nbconvert_exporter": "python",
   "pygments_lexer": "ipython3",
   "version": "3.12.3"
  }
 },
 "nbformat": 4,
 "nbformat_minor": 5
}
